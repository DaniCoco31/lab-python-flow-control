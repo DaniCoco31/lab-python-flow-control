{
 "cells": [
  {
   "cell_type": "markdown",
   "id": "d3bfc191-8885-42ee-b0a0-bbab867c6f9f",
   "metadata": {
    "tags": []
   },
   "source": [
    "# Lab | Flow Control"
   ]
  },
  {
   "cell_type": "markdown",
   "id": "3851fcd1-cf98-4653-9c89-e003b7ec9400",
   "metadata": {},
   "source": [
    "## Exercise: Managing Customer Orders Optimized\n",
    "\n",
    "In the last lab, you were starting an online store that sells various products. To ensure smooth operations, you developed a program that manages customer orders and inventory.\n",
    "\n",
    "You did so without using flow control. Let's go a step further and improve this code.\n",
    "\n",
    "Follow the steps below to complete the exercise:\n",
    "\n",
    "1. Look at your code from the lab data structures, and improve repeated code with loops.\n",
    "\n",
    "2. Instead of asking the user to input the name of three products that a customer wants to order, do the following:\n",
    "    \n",
    "    a. Prompt the user to enter the name of a product that a customer wants to order.\n",
    "    \n",
    "    b. Add the product name to the \"customer_orders\" set.\n",
    "    \n",
    "    c. Ask the user if they want to add another product (yes/no).\n",
    "    \n",
    "    d. Continue the loop until the user does not want to add another product.\n",
    "\n",
    "3. Instead of u\n",
    "dating the inventory by subtracting 1 from the quantity of each product, only do it for  the products that were ordered (those in \"customer_orders\")."
   ]
  },
  {
   "cell_type": "code",
   "execution_count": 19,
   "id": "863bc166",
   "metadata": {},
   "outputs": [],
   "source": [
    "#FUNCTIONS\n",
    "def yes_or_no(question : str):\n",
    "    answer = input(question).lower().strip()\n",
    "    while answer != \"yes\" and answer != \"no\":\n",
    "        answer = input(\"Please, answer yes or no\")\n",
    "    return answer"
   ]
  },
  {
   "cell_type": "code",
   "execution_count": 20,
   "id": "55497d8d",
   "metadata": {},
   "outputs": [],
   "source": [
    "#products\n",
    "products = [\"t-shirt\", \"mug\", \"hat\", \"book\", \"keychain\"]"
   ]
  },
  {
   "cell_type": "code",
   "execution_count": 21,
   "id": "6bf5c40f",
   "metadata": {},
   "outputs": [
    {
     "name": "stdout",
     "output_type": "stream",
     "text": [
      "{'t-shirt': 596, 'mug': 325, 'hat': 266, 'book': 214, 'keychain': 562}\n"
     ]
    }
   ],
   "source": [
    "#Inventario\n",
    "inventory = {}\n",
    "\n",
    "for product in products:\n",
    "    quantity = input(\"Quantity of \" + product+\":\")\n",
    "    inventory[product] = int(quantity)\n",
    "\n",
    "print(inventory)"
   ]
  },
  {
   "cell_type": "code",
   "execution_count": 24,
   "id": "0770f658",
   "metadata": {},
   "outputs": [],
   "source": [
    "#ASSIGNMENT\n",
    "#Look at your code from the lab data structures, and improve repeated code with loops.\n",
    "#done\n",
    "\n",
    "order_product = \"\"\n",
    "customer_orders = set()\n",
    "counter = 0\n",
    "order = yes_or_no(\"Do you want to place an order? (yes/no)\")\n",
    "while order == \"yes\":\n",
    "    #a. Prompt the user to enter the name of a product that a customer wants to order.\n",
    "    order_product = input(\"Which product would you like to order?\").lower().strip()\n",
    "    if order_product not in products:\n",
    "        print(\"Product not available, try another\")\n",
    "    elif order_product in customer_orders:\n",
    "        print(\"Product already in order, try another\")\n",
    "    else:\n",
    "        #b. Add the product name to the \"customer_orders\" set.\n",
    "        customer_orders.add(order_product)\n",
    "        counter += 1\n",
    "        #d. Continue the loop until the user does not want to add another product.\n",
    "        if counter > 5:\n",
    "           break\n",
    "        #c. Ask the user if they want to add another product (yes/no).\n",
    "        order = yes_or_no(\"Do you want  want to add another product ? (yes/no)\")\n",
    "print(\"Pedido finalizado\")\n",
    "print(customer_orders)\n",
    "\n",
    "\n",
    "\n",
    "\n",
    "for product in customer_orders:\n",
    "    inventory[product]-=1\n",
    "\n",
    "print(inventory)"
   ]
  },
  {
   "cell_type": "code",
   "execution_count": null,
   "metadata": {},
   "outputs": [],
   "source": []
  },
  {
   "cell_type": "code",
   "execution_count": null,
   "id": "3c1acc21",
   "metadata": {},
   "outputs": [],
   "source": []
  },
  {
   "cell_type": "code",
   "execution_count": null,
   "id": "e15bee9c",
   "metadata": {},
   "outputs": [],
   "source": []
  }
 ],
 "metadata": {
  "interpreter": {
   "hash": "584093557690fa7b817b68151f31b4e6f6269ea11aeed8f643261726e3a08327"
  },
  "kernelspec": {
   "display_name": "Python 3.11.7 ('base')",
   "language": "python",
   "name": "python3"
  },
  "language_info": {
   "codemirror_mode": {
    "name": "ipython",
    "version": 3
   },
   "file_extension": ".py",
   "mimetype": "text/x-python",
   "name": "python",
   "nbconvert_exporter": "python",
   "pygments_lexer": "ipython3",
   "version": "3.11.7"
  }
 },
 "nbformat": 4,
 "nbformat_minor": 5
}
